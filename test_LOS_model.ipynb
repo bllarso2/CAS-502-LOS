{
 "cells": [
  {
   "cell_type": "markdown",
   "id": "aacca614-f63b-41b1-bff8-9f8f34edf8a9",
   "metadata": {},
   "source": [
    "# I originally tried to do this in the shell, but it just wasn't working for me. I took the format for \"definitions\" from Real Python and used them here in my code, since it's the same format. I also used https://docs.pytest.org/ as a source--particularly for @pytest.fixture function. I'm using our second set of data as a \"fixture,\" so it will be called into my tests. "
   ]
  },
  {
   "cell_type": "code",
   "execution_count": 6,
   "id": "16da98ff-a08b-4253-90fd-19239b31dcb6",
   "metadata": {},
   "outputs": [],
   "source": [
    "import pytest\n",
    "import pandas as pd\n",
    "import numpy as np\n",
    "from sklearn.model_selection import train_test_split\n",
    "from sklearn.pipeline import Pipeline\n",
    "from sklearn.ensemble import RandomForestRegressor\n",
    "from sklearn.preprocessing import OneHotEncoder, StandardScaler\n",
    "from sklearn.compose import ColumnTransformer\n",
    "\n",
    "\n",
    "# load, preprocess, split, train, as in the original \n",
    "@pytest.fixture # from docs.pytest.org\n",
    "def test_data():\n",
    "    \"\"\"Fixture to load and preprocess sample dataset\"\"\"\n",
    "    data = pd.read_csv('Hospital_LOS_with_Comorbidities.csv')\n",
    "    X = data.drop(columns=['Stay (in days)', 'patientid'])\n",
    "    y = data['Stay (in days)']\n",
    "\n",
    "    categorical_cols = X.select_dtypes(include=['object']).columns\n",
    "    numeric_cols = X.select_dtypes(include=['number']).columns\n",
    "\n",
    "    preprocessor = ColumnTransformer([\n",
    "        ('cat', OneHotEncoder(handle_unknown='ignore'), categorical_cols),\n",
    "        ('num', StandardScaler(), numeric_cols)\n",
    "    ])\n",
    "\n",
    "    X_train, X_test, y_train, y_test = train_test_split(X, y, test_size=0.2, random_state=42)\n",
    "\n",
    "    model = Pipeline([\n",
    "        ('preprocessor', preprocessor),\n",
    "        ('regressor', RandomForestRegressor(random_state=42))\n",
    "    ])\n",
    "\n",
    "    model.fit(X_train, y_train)\n",
    "\n",
    "    return model, preprocessor, X_test, y_test # cuts down on code, obviously, but I'm using \"return\" in case we change the model.\n",
    "                                                # Right now, it's not working as planned. Not sure if it's because I'm using \n",
    "                                                # Random Forest regression or not. I'll figure it out later. \n",
    "\n",
    "# ---- Test Cases. KISS ... making sure model returns a number not a string, gives a reasonable range, and is consistent ----\n",
    "\n",
    "def test_output_type(test_data): # From Real Python: every argument has to start with \"test.\" Pytest picks up on that term.\n",
    "    \"\"\"Test if the model returns a numerical output\"\"\"\n",
    "    model, preprocessor, X_test, y_test = test_data # Same as original basically: Random Forest, columntransformer, test data, target\n",
    "    sample_input = X_test.iloc[:1, :] # I selected first row, all columns to create a dataframe \n",
    "    prediction = model.predict(sample_input) # Predict LOS from the dataframe\n",
    "    assert isinstance(prediction[0], (int, float, np.number)), \"Model should return a number\" # docs.pytest.org recommended assert function\n",
    "            # to check if conditions are true. I'm using just the 1st element of array.\n",
    "            # If this returns a string, the test should fail. \n",
    "    \n",
    "\n",
    "def test_output_range(test_data):\n",
    "    \"\"\"Test if model predictions are within a reasonable range\"\"\"\n",
    "    model, preprocessor, X_test, y_test = test_data \n",
    "    sample_input = X_test.iloc[:10, :]\n",
    "    predictions = model.predict(sample_input) \n",
    "    assert all(0 <= p <= 100 for p in predictions), \"Predicted LOS should be within a reasonable range\" # I picked 0-100 arbitrarily\n",
    "    \n",
    "\n",
    "def test_output_consistency(test_data):\n",
    "    \"\"\"Test if values for the same input are consistent\"\"\"\n",
    "    model, preprocessor, X_test, y_test = test_data\n",
    "    sample_input = X_test.iloc[:1, :]\n",
    "    pred1 = model.predict(sample_input) # this should run the exact same number twice\n",
    "    pred2 = model.predict(sample_input)\n",
    "    assert np.isclose(pred1, pred2, atol=1e-6).all(), \"Predictions should be consistent for the same input\"\n",
    "            # When I use the isclose function in Numpy, I use atol=1e-6. I can't really say why--it popped up somewhere over the last\n",
    "            # 3 years of CAS, so I continue to use it. This program probably doesn't need to be that exact, but it hasn't steered me \n",
    "            # wrong thus far:) \n",
    "    \n"
   ]
  },
  {
   "cell_type": "code",
   "execution_count": 5,
   "id": "1e8a03a1-59bf-4348-8b0f-03f2dc1ed4f2",
   "metadata": {},
   "outputs": [
    {
     "name": "stdout",
     "output_type": "stream",
     "text": [
      "\u001b[1m============================= test session starts ==============================\u001b[0m\n",
      "platform darwin -- Python 3.9.21, pytest-8.3.4, pluggy-1.5.0\n",
      "rootdir: /Users/davecooper/Documents/GitHub/CAS-502-LOS\n",
      "plugins: anyio-4.8.0\n",
      "collected 3 items                                                              \u001b[0m\u001b[1m\n",
      "\n",
      "\u001b[32m.\u001b[0m\u001b[32m.\u001b[0m\u001b[32m.\u001b[0m\u001b[32m                                                    [100%]\u001b[0m\n",
      "\n",
      "\u001b[32m============================== \u001b[32m\u001b[1m3 passed\u001b[0m\u001b[32m in 34.85s\u001b[0m\u001b[32m ==============================\u001b[0m\n"
     ]
    }
   ],
   "source": [
    "!pytest test_LOS_model.py\n"
   ]
  },
  {
   "cell_type": "code",
   "execution_count": null,
   "id": "f0610931-f66f-42a5-bd51-4551e0a521d2",
   "metadata": {},
   "outputs": [],
   "source": []
  }
 ],
 "metadata": {
  "kernelspec": {
   "display_name": "Python (venv)",
   "language": "python",
   "name": "venv"
  },
  "language_info": {
   "codemirror_mode": {
    "name": "ipython",
    "version": 3
   },
   "file_extension": ".py",
   "mimetype": "text/x-python",
   "name": "python",
   "nbconvert_exporter": "python",
   "pygments_lexer": "ipython3",
   "version": "3.9.21"
  }
 },
 "nbformat": 4,
 "nbformat_minor": 5
}

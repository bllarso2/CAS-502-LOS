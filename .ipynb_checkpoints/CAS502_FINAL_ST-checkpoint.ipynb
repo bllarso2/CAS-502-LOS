{
 "cells": [
  {
   "cell_type": "code",
   "execution_count": 1,
   "id": "4d121178-a13b-4140-94a8-8a0a04b0705d",
   "metadata": {
    "id": "4d121178-a13b-4140-94a8-8a0a04b0705d",
    "outputId": "24fe5d95-4af9-4478-89cf-09ec815bd275"
   },
   "outputs": [
    {
     "name": "stdout",
     "output_type": "stream",
     "text": [
      "MAE: 1.2405153187399511\n",
      "MSE: 3.4202028539614244\n",
      "R² Score: 0.9447086063740399\n"
     ]
    }
   ],
   "source": [
    "import pandas as pd\n",
    "from sklearn.model_selection import train_test_split\n",
    "from sklearn.ensemble import RandomForestRegressor\n",
    "from sklearn.metrics import mean_absolute_error, mean_squared_error, r2_score\n",
    "from sklearn.preprocessing import OneHotEncoder, StandardScaler\n",
    "from sklearn.compose import ColumnTransformer\n",
    "from sklearn.pipeline import Pipeline\n",
    "\n",
    "# Load data\n",
    "data = pd.read_csv('/Users/bradlarson/Desktop/CAS-502/Hospital-LOS.csv')\n",
    "\n",
    "# Define target and features\n",
    "X = data.drop(columns=['Stay (in days)', 'patientid'])\n",
    "y = data['Stay (in days)']\n",
    "\n",
    "# Preprocess data\n",
    "categorical_cols = X.select_dtypes(include=['object']).columns\n",
    "numeric_cols = X.select_dtypes(include=['number']).columns\n",
    "\n",
    "preprocessor = ColumnTransformer([\n",
    "    ('cat', OneHotEncoder(handle_unknown='ignore'), categorical_cols),\n",
    "    ('num', StandardScaler(), numeric_cols)\n",
    "])\n",
    "\n",
    "# Split data\n",
    "X_train, X_test, y_train, y_test = train_test_split(X, y, test_size=0.2, random_state=42)\n",
    "\n",
    "# Build pipeline\n",
    "model = Pipeline([\n",
    "    ('preprocessor', preprocessor),\n",
    "    ('regressor', RandomForestRegressor(random_state=42))\n",
    "])\n",
    "\n",
    "# Train model\n",
    "model.fit(X_train, y_train)\n",
    "\n",
    "# Evaluate model\n",
    "y_pred = model.predict(X_test)\n",
    "print(\"MAE:\", mean_absolute_error(y_test, y_pred))\n",
    "print(\"MSE:\", mean_squared_error(y_test, y_pred))\n",
    "print(\"R² Score:\", r2_score(y_test, y_pred))\n"
   ]
  },
  {
   "cell_type": "code",
   "execution_count": 2,
   "id": "f9c74aaf-0c45-4767-ae2b-35ce506202c7",
   "metadata": {
    "id": "f9c74aaf-0c45-4767-ae2b-35ce506202c7"
   },
   "outputs": [],
   "source": [
    "new_patient = {\n",
    "    'Available Extra Rooms in Hospital': 3,\n",
    "    'Department': 'gynecology',\n",
    "    'Ward_Facility_Code': 'C',\n",
    "    'doctor_name': 'Dr. Oliva',\n",
    "    'staff_available': 15,\n",
    "    'Age': '31-40',\n",
    "    'gender': 'Female',\n",
    "    'Type of Admission': 'Emergency',\n",
    "    'Severity of Illness': 'Extreme',\n",
    "    'health_conditions': 'diabetes',\n",
    "    'Visitors with Patient': 2,\n",
    "    'Insurance': 'yes'\n",
    "}\n"
   ]
  },
  {
   "cell_type": "code",
   "execution_count": 3,
   "id": "3e158005-db98-468f-bb72-0b1ccf5e7900",
   "metadata": {
    "id": "3e158005-db98-468f-bb72-0b1ccf5e7900",
    "outputId": "ded3acd7-b786-46e3-f25e-9f8b1e2ee5cd"
   },
   "outputs": [
    {
     "name": "stdout",
     "output_type": "stream",
     "text": [
      "Predicted Length of Stay (in days): 8.032666666666666\n"
     ]
    }
   ],
   "source": [
    "# Convert new patient data to DataFrame\n",
    "new_patient_df = pd.DataFrame([new_patient])\n",
    "\n",
    "# Predict length of stay\n",
    "predicted_stay = model.predict(new_patient_df)\n",
    "\n",
    "print(\"Predicted Length of Stay (in days):\", predicted_stay[0])\n"
   ]
  },
  {
   "cell_type": "code",
   "execution_count": 4,
   "id": "6563a0b2-d052-4bb8-9995-17271d7a8b4f",
   "metadata": {},
   "outputs": [
    {
     "name": "stderr",
     "output_type": "stream",
     "text": [
      "2025-02-09 16:26:11.244 \n",
      "  \u001b[33m\u001b[1mWarning:\u001b[0m to view this Streamlit app on a browser, run it with the following\n",
      "  command:\n",
      "\n",
      "    streamlit run /opt/anaconda3/lib/python3.12/site-packages/ipykernel_launcher.py [ARGUMENTS]\n"
     ]
    }
   ],
   "source": [
    "import streamlit as st\n",
    "import pandas as pd\n",
    "import matplotlib.pyplot as plt\n",
    "from model import predict_study_length  # Example function from your model file\n",
    "\n",
    "st.title(\"Length of Study Prediction Dashboard\")\n",
    "\n",
    "uploaded_file = st.file_uploader(\"Upload a CSV\", type=[\"csv\"])\n",
    "if uploaded_file:\n",
    "    df = pd.read_csv(uploaded_file)\n",
    "    st.write(df.head())\n",
    "\n",
    "    # Make predictions\n",
    "    predictions = predict_study_length(df)  # This should be a function from model.py\n",
    "    df['Predictions'] = predictions\n",
    "    st.write(df)\n",
    "\n",
    "    # Visualization example\n",
    "    st.line_chart(df['Predictions'])\n"
   ]
  },
  {
   "cell_type": "code",
   "execution_count": 11,
   "id": "3a63a951-c08a-4651-8a67-dad4c979a114",
   "metadata": {},
   "outputs": [
    {
     "ename": "SyntaxError",
     "evalue": "invalid syntax (3737097518.py, line 1)",
     "output_type": "error",
     "traceback": [
      "\u001b[0;36m  Cell \u001b[0;32mIn[11], line 1\u001b[0;36m\u001b[0m\n\u001b[0;31m    streamlit run app.py\u001b[0m\n\u001b[0m              ^\u001b[0m\n\u001b[0;31mSyntaxError\u001b[0m\u001b[0;31m:\u001b[0m invalid syntax\n"
     ]
    }
   ],
   "source": [
    "pip install "
   ]
  }
 ],
 "metadata": {
  "colab": {
   "provenance": []
  },
  "kernelspec": {
   "display_name": "Python [conda env:base] *",
   "language": "python",
   "name": "conda-base-py"
  },
  "language_info": {
   "codemirror_mode": {
    "name": "ipython",
    "version": 3
   },
   "file_extension": ".py",
   "mimetype": "text/x-python",
   "name": "python",
   "nbconvert_exporter": "python",
   "pygments_lexer": "ipython3",
   "version": "3.12.7"
  }
 },
 "nbformat": 4,
 "nbformat_minor": 5
}

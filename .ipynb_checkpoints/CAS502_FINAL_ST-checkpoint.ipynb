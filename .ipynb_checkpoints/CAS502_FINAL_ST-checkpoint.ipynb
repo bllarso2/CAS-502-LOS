{
 "cells": [
  {
   "cell_type": "code",
   "execution_count": 1,
   "id": "d2ab3c32-c9a0-40b0-9233-7a83c1e5ca9d",
   "metadata": {},
   "outputs": [],
   "source": [
    "import pandas as pd\n",
    "from sklearn.model_selection import train_test_split\n",
    "from sklearn.ensemble import RandomForestRegressor \n",
    "from sklearn.metrics import mean_absolute_error, mean_squared_error, r2_score\n",
    "from sklearn.preprocessing import OneHotEncoder, StandardScaler \n",
    "from sklearn.compose import ColumnTransformer\n",
    "from sklearn.pipeline import Pipeline"
   ]
  },
  {
   "cell_type": "code",
   "execution_count": 2,
   "id": "b459338b-6e3a-4e5f-b6dd-eec0beb42674",
   "metadata": {},
   "outputs": [],
   "source": [
    "# Load hospital stay dataset\n",
    "data = pd.read_csv('Hospital-LOS.csv')\n",
    "\n",
    "# Define target variable (length of stay in days) and feature set\n",
    "X = data.drop(columns=['Stay (in days)', 'patientid']) # Drop target and unnecessary identifier\n",
    "y = data['Stay (in days)'] # This is the target variable (dependent variable)\n",
    "\n",
    "# Identify categorical and numerical features of the dataset\n",
    "categorical_cols = X.select_dtypes(include=['object']).columns # Categorical variables\n",
    "numeric_cols = X.select_dtypes(include=['number']).columns # Numeric variables\n",
    "\n",
    "# Preprocessing: Encode categorical variables and standardize numerical variables\n",
    "preprocessor = ColumnTransformer([\n",
    "    ('cat', OneHotEncoder(handle_unknown='ignore'), categorical_cols), # One-hot encode categorical features\n",
    "    ('num', StandardScaler(), numeric_cols) # Standardize numeric features\n",
    "])"
   ]
  },
  {
   "cell_type": "code",
   "execution_count": 3,
   "id": "705e6252-0eb9-4504-b6f1-b5528a4ccf7a",
   "metadata": {},
   "outputs": [],
   "source": [
    "# # Split dataset into training (80%) and testing (20%) sets\n",
    "X_train, X_test, y_train, y_test = train_test_split(X, y, test_size=0.2, random_state=42)"
   ]
  },
  {
   "cell_type": "code",
   "execution_count": 6,
   "id": "61c4a1e1-d7ad-4665-8aec-30ebdbd7bf33",
   "metadata": {},
   "outputs": [
    {
     "name": "stdout",
     "output_type": "stream",
     "text": [
      "MAE: 1.2405153187399511\n",
      "MSE: 3.4202028539614244\n",
      "R² Score: 0.9447086063740399\n"
     ]
    }
   ],
   "source": [
    "# Define a pipeline with preprocessing and Random Forest regression model\n",
    "model = Pipeline([\n",
    "    ('preprocessor', preprocessor),\n",
    "    ('regressor', RandomForestRegressor(random_state=42))\n",
    "])\n",
    "\n",
    "# Train the model on the training data\n",
    "model.fit(X_train, y_train)\n",
    "\n",
    "# Evaluate model performance using standard regression metrics\n",
    "y_pred_no_comorbidities = model.predict(X_test) \n",
    "print(\"MAE:\", mean_absolute_error(y_test, y_pred_no_comorbidities))\n",
    "print(\"MSE:\", mean_squared_error(y_test, y_pred_no_comorbidities))\n",
    "print(\"R² Score:\", r2_score(y_test, y_pred_no_comorbidities)) # R² score to show model accuracy"
   ]
  },
  {
   "cell_type": "code",
   "execution_count": 7,
   "id": "f9c74aaf-0c45-4767-ae2b-35ce506202c7",
   "metadata": {
    "id": "f9c74aaf-0c45-4767-ae2b-35ce506202c7"
   },
   "outputs": [],
   "source": [
    "# Define a new patient profile for prediction\n",
    "new_patient = {\n",
    "    'Available Extra Rooms in Hospital': 3,\n",
    "    'Department': 'gynecology',\n",
    "    'Ward_Facility_Code': 'C',\n",
    "    'doctor_name': 'Dr. Oliva',\n",
    "    'staff_available': 15,\n",
    "    'Age': '31-40',\n",
    "    'gender': 'Female',\n",
    "    'Type of Admission': 'Emergency',\n",
    "    'Severity of Illness': 'Extreme',\n",
    "    'health_conditions': 'diabetes',\n",
    "    'Visitors with Patient': 2,\n",
    "    'Insurance': 'yes'\n",
    "}\n"
   ]
  },
  {
   "cell_type": "code",
   "execution_count": 8,
   "id": "3e158005-db98-468f-bb72-0b1ccf5e7900",
   "metadata": {
    "id": "3e158005-db98-468f-bb72-0b1ccf5e7900",
    "outputId": "ded3acd7-b786-46e3-f25e-9f8b1e2ee5cd"
   },
   "outputs": [
    {
     "name": "stdout",
     "output_type": "stream",
     "text": [
      "Predicted Length of Stay (in days): 8.032666666666666\n"
     ]
    }
   ],
   "source": [
    "# Convert patient data into a DataFrame for model input\n",
    "new_patient_df = pd.DataFrame([new_patient])\n",
    "\n",
    "# Predict length of hospital stay for new patient\n",
    "predicted_stay = model.predict(new_patient_df)\n",
    "\n",
    "print(\"Predicted Length of Stay (in days):\", predicted_stay[0])\n"
   ]
  },
  {
   "cell_type": "markdown",
   "id": "6886c541-e78b-412b-bf49-6903d85e3a03",
   "metadata": {},
   "source": [
    "# The model above is the original model--it does not factor in co-morbidities. The model below was the first attempt to factor in co-morbidities to see how they would impact length of stay (LOS). "
   ]
  },
  {
   "cell_type": "code",
   "execution_count": 13,
   "id": "75d2c9ad-7d0f-4bd6-b345-c44e1ea6aab9",
   "metadata": {},
   "outputs": [
    {
     "name": "stdout",
     "output_type": "stream",
     "text": [
      "MAE: 1.2335703141370018\n",
      "MSE: 3.393509120014743\n",
      "R² Score: 0.9451401403543367\n"
     ]
    }
   ],
   "source": [
    "# Load updated dataset with additional co-morbidities\n",
    "data = pd.read_csv('Hospital_LOS_with_Comorbidities.csv')\n",
    "\n",
    "# Expected increase in Length of Stay (LOS) in days for patients with specific co-morbidities\n",
    "# Based on external medical research. (Caveat: single study)\n",
    "los_increase = {\n",
    "    \"Septicemia\": 7,\n",
    "    \"CHF\": 5,\n",
    "    \"Pneumonia\": 4,\n",
    "    \"COPD_Bronchiectasis\": 3,\n",
    "    \"Cardiac_Dysrhythmias\": 2,\n",
    "    \"Acute_Cerebrovascular_Disease\": 6,\n",
    "    \"Acute_Renal_Failure\": 5,\n",
    "    \"Skin_Infections\": 2,\n",
    "    \"UTI\": 1\n",
    "}\n",
    "\n",
    "# Compute the expected LOS impact based on the presence of co-morbidities\n",
    "# Assumes that each condition is represented as a binary (0/1) variable in the dataset\n",
    "data[\"Comorbidity_LOS_Impact\"] = sum([data[condition] * los_increase[condition] for condition in los_increase\n",
    "])\n",
    "\n",
    "# Scaling up Comorbidity_LOS_Impact. This just doesn't seem to be important to the model.\n",
    "data[\"Comorbidity_LOS_Impact\"] *= 10  # Trying 10x increase (can be ajusted as needed)\n",
    "\n",
    "# Define features (X) and target variable (y)\n",
    "# 'Stay (in days)' is the prediction target\n",
    "# 'patientid' is dropped as it is a unique identifier with no predictive value\n",
    "\n",
    "X = data.drop(columns=['Stay (in days)', 'patientid'])  # Target variable removed\n",
    "y = data['Stay (in days)']  # Target variable\n",
    "\n",
    "# Identify categorical and numerical columns for preprocessing\n",
    "categorical_cols = X.select_dtypes(include=['object']).columns\n",
    "numeric_cols = X.select_dtypes(include=['number']).columns\n",
    "\n",
    "# Preprocessing pipeline:\n",
    "# - OneHotEncoder for categorical variables (handles unseen categories)\n",
    "# - StandardScaler for numerical features to normalize values (Note: this could make co-morbidities too small\n",
    "# which is why the model is not accounting for them)\n",
    "\n",
    "# Update preprocessor to handle new features\n",
    "preprocessor = ColumnTransformer([\n",
    "    ('cat', OneHotEncoder(handle_unknown='ignore'), categorical_cols),\n",
    "    ('num', StandardScaler(), numeric_cols)\n",
    "])\n",
    "\n",
    "# Split data into training and testing sets\n",
    "X_train, X_test, y_train, y_test = train_test_split(X, y, test_size=0.2, random_state=42)\n",
    "\n",
    "# Define the model pipeline:\n",
    "# - Preprocesses data using OneHotEncoder (categorical) and StandardScaler (numerical)\n",
    "# - Uses RandomForestRegressor, chosen for its ability to handle non-linear relationships and interactions\n",
    "\n",
    "model = Pipeline([\n",
    "    ('preprocessor', preprocessor),\n",
    "    ('regressor', RandomForestRegressor(random_state=42))\n",
    "])\n",
    "\n",
    "# Train the updated model\n",
    "model.fit(X_train, y_train)\n",
    "\n",
    "# Evaluate the trained model using the test set\n",
    "y_pred_with_comorbidities = model.predict(X_test)\n",
    "print(\"MAE:\", mean_absolute_error(y_test, y_pred_with_comorbidities))\n",
    "print(\"MSE:\", mean_squared_error(y_test, y_pred_with_comorbidities))\n",
    "print(\"R² Score:\", r2_score(y_test, y_pred_with_comorbidities))"
   ]
  },
  {
   "cell_type": "code",
   "execution_count": 20,
   "id": "1653fd92-6b31-4cc1-bce6-fbaeda2db87f",
   "metadata": {},
   "outputs": [],
   "source": [
    "# Adding a \"severity multiplier\" from severity of illness to force the model to account for co-morbities. \n",
    "# Define severity multipliers\n",
    "severity_multiplier = {\"Minor\": 1.0, \"Moderate\": 1.5, \"Extreme\": 2.0} # These numbers can be adjusted\n",
    "\n",
    "# Define a new patient profile with additional co-morbidities\n",
    "new_patient = {\n",
    "    'Available Extra Rooms in Hospital': 3,\n",
    "    'Department': 'gynecology',\n",
    "    'Ward_Facility_Code': 'C',\n",
    "    'doctor_name': 'Dr. Oliva',\n",
    "    'staff_available': 15,\n",
    "    'Age': '31-40',\n",
    "    'gender': 'Female',\n",
    "    'Type of Admission': 'Emergency',\n",
    "    'Severity of Illness': 'Extreme',\n",
    "    'health_conditions': 'diabetes',\n",
    "    'Visitors with Patient': 2,\n",
    "    'Insurance': 'yes',\n",
    "    'Septicemia': 0,\n",
    "    'CHF': 0,\n",
    "    'Pneumonia': 1,\n",
    "    'COPD_Bronchiectasis': 0,\n",
    "    'Cardiac_Dysrhythmias': 0,\n",
    "    'Acute_Cerebrovascular_Disease': 1,\n",
    "    'Acute_Renal_Failure': 0,\n",
    "    'Skin_Infections': 0,\n",
    "    'UTI': 1\n",
    "\n",
    "}"
   ]
  },
  {
   "cell_type": "markdown",
   "id": "306fe583-0172-4d52-94b7-fb961a560c9e",
   "metadata": {},
   "source": [
    "# For some reason, the model is not factoring in co-morbidities. Maybe the correlations are not strong enough. I don't have the coding skill right now to figure out an elegant programming solution to this. So I'm going with brute force: I'm summing the co-morbidities and adding a penalty for multiple co-morbidities. "
   ]
  },
  {
   "cell_type": "code",
   "execution_count": 22,
   "id": "c0997ad0-7219-455c-a448-14b2d9b76cff",
   "metadata": {},
   "outputs": [
    {
     "name": "stdout",
     "output_type": "stream",
     "text": [
      "Predicted Length of Stay (in days): 7.48\n"
     ]
    }
   ],
   "source": [
    "# Count the total number of co-morbidities present in the new patient\n",
    "# Assumes conditions are stored as binary indicators (0 = absent, 1 = present)\n",
    "\n",
    "new_patient[\"Total_CoMorbidities\"] = sum([new_patient[condition] for condition in los_increase])\n",
    "\n",
    "# Apply a penalty based on the total number of co-morbidities\n",
    "# Each additional co-morbidity beyond the first increases LOS by 10%\n",
    "# Ensures a minimum multiplier of 1 (i.e., no penalty if only one or zero conditions)\n",
    "\n",
    "comorbidity_penalty = 1 + (3.89 * max(0, new_patient[\"Total_CoMorbidities\"] - 1)) # I averaged LOS_increase (3.89) and used that as the\n",
    "                                                                                    # penalty\n",
    "\n",
    "# Calculate the baseline LOS impact based on the presence of co-morbidities\n",
    "# Multiplies each condition's LOS increase by its presence (binary 0/1)\n",
    "# Applies the comorbidity penalty to adjust for multiple conditions\n",
    "\n",
    "new_patient[\"Comorbidity_LOS_Impact\"] = sum([new_patient[condition] * los_increase[condition] for condition in los_increase]) * comorbidity_penalty\n",
    "\n",
    "# Adjust the LOS impact based on the severity of illness\n",
    "# Assumes `Severity of Illness` is a valid key in `severity_multiplier`\n",
    "\n",
    "new_patient[\"Comorbidity_LOS_Impact\"] *= severity_multiplier[new_patient[\"Severity of Illness\"]]\n",
    "\n",
    "# Convert the new patient’s data into a DataFrame\n",
    "# Required because the model expects tabular input, not a dictionary\n",
    "\n",
    "new_patient_df = pd.DataFrame([new_patient])\n",
    "\n",
    "# Predict length of stay\n",
    "predicted_stay = model.predict(new_patient_df)\n",
    "\n",
    "print(\"Predicted Length of Stay (in days):\", predicted_stay[0])"
   ]
  },
  {
   "cell_type": "markdown",
   "id": "7d6cf638-42b3-4745-8192-e594e63784e0",
   "metadata": {},
   "source": [
    "# Granted, there is a long way to go on this model. We went with a Random Forest Regression model--maybe that is the problem. While it's useful for non-linear relationships, maybe in standardizing numerical values, it's reducing them to zero or close to it. I don't know. I do know that the average cost of a day in a US hospital is approx $3000. A model that is able to better predict length of stay, even slightly better (principle of non-linearity), could have significant impacts:\n",
    "- Reduce costs by millions annually\n",
    "- Improve patient throughput, especially in high-demand hospitals\n",
    "- Decrease readmissions by ensuring adequate in-hospital care\n",
    "- Enhance operational efficiency through better staffing and resource allocation\n"
   ]
  },
  {
   "cell_type": "code",
   "execution_count": 4,
   "id": "6563a0b2-d052-4bb8-9995-17271d7a8b4f",
   "metadata": {},
   "outputs": [
    {
     "name": "stderr",
     "output_type": "stream",
     "text": [
      "2025-02-09 16:26:11.244 \n",
      "  \u001b[33m\u001b[1mWarning:\u001b[0m to view this Streamlit app on a browser, run it with the following\n",
      "  command:\n",
      "\n",
      "    streamlit run /opt/anaconda3/lib/python3.12/site-packages/ipykernel_launcher.py [ARGUMENTS]\n"
     ]
    }
   ],
   "source": [
    "# Streamlit-based dashboard for interactive hospital stay predictions\n",
    "import streamlit as st\n",
    "import pandas as pd\n",
    "import matplotlib.pyplot as plt\n",
    "from model import predict_study_length  # Example function from your model file\n",
    "\n",
    "# Set up dashboard title\n",
    "st.title(\"Length of Study Prediction Dashboard\")\n",
    "\n",
    "# File uploader for users to input CSV files\n",
    "uploaded_file = st.file_uploader(\"Upload a CSV\", type=[\"csv\"])\n",
    "if uploaded_file:\n",
    "    df = pd.read_csv(uploaded_file)\n",
    "    st.write(df.head())\n",
    "\n",
    "    # Generate predictions for uploaded dataset\n",
    "    predictions = predict_study_length(df)  # This should be a function from model.py\n",
    "    df['Predictions'] = predictions\n",
    "    st.write(df)\n",
    "\n",
    "    # Display predictions using line chart\n",
    "    st.line_chart(df['Predictions'])\n"
   ]
  },
  {
   "cell_type": "code",
   "execution_count": 11,
   "id": "3a63a951-c08a-4651-8a67-dad4c979a114",
   "metadata": {},
   "outputs": [
    {
     "ename": "SyntaxError",
     "evalue": "invalid syntax (3737097518.py, line 1)",
     "output_type": "error",
     "traceback": [
      "\u001b[0;36m  Cell \u001b[0;32mIn[11], line 1\u001b[0;36m\u001b[0m\n\u001b[0;31m    streamlit run app.py\u001b[0m\n\u001b[0m              ^\u001b[0m\n\u001b[0;31mSyntaxError\u001b[0m\u001b[0;31m:\u001b[0m invalid syntax\n"
     ]
    }
   ],
   "source": [
    "pip install "
   ]
  },
  {
   "cell_type": "code",
   "execution_count": null,
   "id": "bd1a7854-3b88-4590-b5dc-64cc7eb27173",
   "metadata": {},
   "outputs": [],
   "source": []
  }
 ],
 "metadata": {
  "colab": {
   "provenance": []
  },
  "kernelspec": {
   "display_name": "Python (venv)",
   "language": "python",
   "name": "venv"
  },
  "language_info": {
   "codemirror_mode": {
    "name": "ipython",
    "version": 3
   },
   "file_extension": ".py",
   "mimetype": "text/x-python",
   "name": "python",
   "nbconvert_exporter": "python",
   "pygments_lexer": "ipython3",
   "version": "3.9.21"
  }
 },
 "nbformat": 4,
 "nbformat_minor": 5
}

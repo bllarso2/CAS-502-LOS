{
 "cells": [
  {
   "cell_type": "code",
   "execution_count": 5,
   "id": "d2ab3c32-c9a0-40b0-9233-7a83c1e5ca9d",
   "metadata": {},
   "outputs": [],
   "source": [
    "import pandas as pd\n",
    "from sklearn.model_selection import train_test_split\n",
    "from sklearn.ensemble import RandomForestRegressor \n",
    "from sklearn.metrics import mean_absolute_error, mean_squared_error, r2_score\n",
    "from sklearn.preprocessing import OneHotEncoder, StandardScaler \n",
    "from sklearn.compose import ColumnTransformer\n",
    "from sklearn.pipeline import Pipeline"
   ]
  },
  {
   "cell_type": "code",
   "execution_count": 21,
   "id": "b459338b-6e3a-4e5f-b6dd-eec0beb42674",
   "metadata": {},
   "outputs": [],
   "source": [
    "# Load hospital stay dataset\n",
    "data = pd.read_csv('Hospital-LOS.csv')\n",
    "\n",
    "# Define target variable (length of stay in days) and feature set\n",
    "X = data.drop(columns=['Stay (in days)', 'patientid']) # Drop target and unnecessary identifier\n",
    "y = data['Stay (in days)'] # This is the target variable (dependent variable)\n",
    "\n",
    "# Identify categorical and numerical features of the dataset\n",
    "categorical_cols = X.select_dtypes(include=['object']).columns # Categorical variables\n",
    "numeric_cols = X.select_dtypes(include=['number']).columns # Numeric variables\n",
    "\n",
    "# Preprocessing: Encode categorical variables and standardize numerical variables\n",
    "preprocessor = ColumnTransformer([\n",
    "    ('cat', OneHotEncoder(handle_unknown='ignore'), categorical_cols), # One-hot encode categorical features\n",
    "    ('num', StandardScaler(), numeric_cols) # Standardize numeric features\n",
    "])"
   ]
  },
  {
   "cell_type": "code",
   "execution_count": 23,
   "id": "705e6252-0eb9-4504-b6f1-b5528a4ccf7a",
   "metadata": {},
   "outputs": [],
   "source": [
    "# # Split dataset into training (80%) and testing (20%) sets\n",
    "X_train, X_test, y_train, y_test = train_test_split(X, y, test_size=0.2, random_state=42)"
   ]
  },
  {
   "cell_type": "code",
   "execution_count": 25,
   "id": "61c4a1e1-d7ad-4665-8aec-30ebdbd7bf33",
   "metadata": {},
   "outputs": [
    {
     "name": "stdout",
     "output_type": "stream",
     "text": [
      "MAE: 1.2405153187399511\n",
      "MSE: 3.4202028539614244\n",
      "R² Score: 0.9447086063740399\n"
     ]
    }
   ],
   "source": [
    "# Define a pipeline with preprocessing and Random Forest regression model\n",
    "model = Pipeline([\n",
    "    ('preprocessor', preprocessor),\n",
    "    ('regressor', RandomForestRegressor(random_state=42))\n",
    "])\n",
    "\n",
    "# Train the model on the training data\n",
    "model.fit(X_train, y_train)\n",
    "\n",
    "# Evaluate model performance using standard regression metrics\n",
    "y_pred = model.predict(X_test)\n",
    "print(\"MAE:\", mean_absolute_error(y_test, y_pred))\n",
    "print(\"MSE:\", mean_squared_error(y_test, y_pred))\n",
    "print(\"R² Score:\", r2_score(y_test, y_pred)) # R² score to show model accuracy"
   ]
  },
  {
   "cell_type": "code",
   "execution_count": 29,
   "id": "f9c74aaf-0c45-4767-ae2b-35ce506202c7",
   "metadata": {
    "id": "f9c74aaf-0c45-4767-ae2b-35ce506202c7"
   },
   "outputs": [],
   "source": [
    "# Define a new patient profile for prediction\n",
    "new_patient = {\n",
    "    'Available Extra Rooms in Hospital': 3,\n",
    "    'Department': 'gynecology',\n",
    "    'Ward_Facility_Code': 'C',\n",
    "    'doctor_name': 'Dr. Oliva',\n",
    "    'staff_available': 15,\n",
    "    'Age': '31-40',\n",
    "    'gender': 'Female',\n",
    "    'Type of Admission': 'Emergency',\n",
    "    'Severity of Illness': 'Extreme',\n",
    "    'health_conditions': 'diabetes',\n",
    "    'Visitors with Patient': 2,\n",
    "    'Insurance': 'yes'\n",
    "}\n"
   ]
  },
  {
   "cell_type": "code",
   "execution_count": 31,
   "id": "3e158005-db98-468f-bb72-0b1ccf5e7900",
   "metadata": {
    "id": "3e158005-db98-468f-bb72-0b1ccf5e7900",
    "outputId": "ded3acd7-b786-46e3-f25e-9f8b1e2ee5cd"
   },
   "outputs": [
    {
     "name": "stdout",
     "output_type": "stream",
     "text": [
      "Predicted Length of Stay (in days): 8.032666666666666\n"
     ]
    }
   ],
   "source": [
    "# Convert patient data into a DataFrame for model input\n",
    "new_patient_df = pd.DataFrame([new_patient])\n",
    "\n",
    "# Predict length of hospital stay for new patient\n",
    "predicted_stay = model.predict(new_patient_df)\n",
    "\n",
    "print(\"Predicted Length of Stay (in days):\", predicted_stay[0])\n"
   ]
  },
  {
   "cell_type": "code",
   "execution_count": 33,
   "id": "75d2c9ad-7d0f-4bd6-b345-c44e1ea6aab9",
   "metadata": {},
   "outputs": [
    {
     "name": "stdout",
     "output_type": "stream",
     "text": [
      "MAE: 1.2405153187399511\n",
      "MSE: 3.4202028539614244\n",
      "R² Score: 0.9447086063740399\n"
     ]
    }
   ],
   "source": [
    "# Load updated dataset with additional co-morbidities\n",
    "data = pd.read_csv('Hospital_LOS_with_Comorbidities.csv')\n",
    "\n",
    "# Update target and feature set with new variables\n",
    "X = data.drop(columns=['Stay (in days)', 'patientid'])  # Drop target and patient ID\n",
    "y = data['Stay (in days)']  # Target variable\n",
    "\n",
    "# Identify categorical and numeric features in the updated dataset\n",
    "categorical_cols = X.select_dtypes(include=['object']).columns\n",
    "numeric_cols = X.select_dtypes(include=['number']).columns\n",
    "\n",
    "# Update preprocessor to handle additional features\n",
    "preprocessor = ColumnTransformer([\n",
    "    ('cat', OneHotEncoder(handle_unknown='ignore'), categorical_cols), # Handle categorical variables\n",
    "    ('num', StandardScaler(), numeric_cols) # Normalize numeric variables\n",
    "])\n",
    "\n",
    "# Split updated dataset into training and testing sets\n",
    "X_train, X_test, y_train, y_test = train_test_split(X, y, test_size=0.2, random_state=42)\n",
    "\n",
    "# Define an updated model pipeline\n",
    "updated_model = Pipeline([\n",
    "    ('preprocessor', preprocessor),\n",
    "    ('regressor', RandomForestRegressor(random_state=42))\n",
    "])\n",
    "\n",
    "# Train the updated model\n",
    "updated_model.fit(X_train, y_train)\n",
    "\n",
    "# Evaluate updated model performance\n",
    "y_pred = model.predict(X_test)\n",
    "print(\"MAE:\", mean_absolute_error(y_test, y_pred))\n",
    "print(\"MSE:\", mean_squared_error(y_test, y_pred))\n",
    "print(\"R² Score:\", r2_score(y_test, y_pred))"
   ]
  },
  {
   "cell_type": "code",
   "execution_count": 35,
   "id": "1653fd92-6b31-4cc1-bce6-fbaeda2db87f",
   "metadata": {},
   "outputs": [],
   "source": [
    "# Define a new patient profile with additional co-morbidities\n",
    "new_patient = {\n",
    "    'Available Extra Rooms in Hospital': 3,\n",
    "    'Department': 'gynecology',\n",
    "    'Ward_Facility_Code': 'C',\n",
    "    'doctor_name': 'Dr. Oliva',\n",
    "    'staff_available': 15,\n",
    "    'Age': '31-40',\n",
    "    'gender': 'Female',\n",
    "    'Type of Admission': 'Emergency',\n",
    "    'Severity of Illness': 'Extreme',\n",
    "    'health_conditions': 'diabetes',\n",
    "    'Visitors with Patient': 2,\n",
    "    'Insurance': 'yes',\n",
    "    'Septicemia': 0,\n",
    "    'CHF': 0,\n",
    "    'Pneumonia': 1,\n",
    "    'COPD_Bronchiectasis': 0,\n",
    "    'Cardiac_Dysrhythmias': 0,\n",
    "    'Acute_Cerebrovascular_Disease': 1,\n",
    "    'Acute_Renal_Failure': 0,\n",
    "    'Skin_Infections': 0,\n",
    "    'UTI': 1\n",
    "\n",
    "}"
   ]
  },
  {
   "cell_type": "code",
   "execution_count": 37,
   "id": "c4fb7d42-93c6-486d-9f82-c63b12e69b17",
   "metadata": {},
   "outputs": [
    {
     "name": "stdout",
     "output_type": "stream",
     "text": [
      "Predicted Length of Stay (in days): 8.032666666666666\n"
     ]
    }
   ],
   "source": [
    "# Convert patient data into DataFrame format for prediction\n",
    "new_patient_df = pd.DataFrame([new_patient])\n",
    "\n",
    "# Predict length of stay for new patient with co-morbidities\n",
    "predicted_stay = model.predict(new_patient_df)\n",
    "\n",
    "print(\"Predicted Length of Stay (in days):\", predicted_stay[0])\n"
   ]
  },
  {
   "cell_type": "markdown",
   "id": "6e88f4a4-994f-4b3b-8531-36df4b51cf9c",
   "metadata": {},
   "source": [
    "# This was the stopping point. I have not made any changes to the code, so it's still not factoring in co-morbidities. "
   ]
  },
  {
   "cell_type": "code",
   "execution_count": 4,
   "id": "6563a0b2-d052-4bb8-9995-17271d7a8b4f",
   "metadata": {},
   "outputs": [
    {
     "name": "stderr",
     "output_type": "stream",
     "text": [
      "2025-02-09 16:26:11.244 \n",
      "  \u001b[33m\u001b[1mWarning:\u001b[0m to view this Streamlit app on a browser, run it with the following\n",
      "  command:\n",
      "\n",
      "    streamlit run /opt/anaconda3/lib/python3.12/site-packages/ipykernel_launcher.py [ARGUMENTS]\n"
     ]
    }
   ],
   "source": [
    "# Streamlit-based dashboard for interactive hospital stay predictions\n",
    "import streamlit as st\n",
    "import pandas as pd\n",
    "import matplotlib.pyplot as plt\n",
    "from model import predict_study_length  # Example function from your model file\n",
    "\n",
    "# Set up dashboard title\n",
    "st.title(\"Length of Study Prediction Dashboard\")\n",
    "\n",
    "# File uploader for users to input CSV files\n",
    "uploaded_file = st.file_uploader(\"Upload a CSV\", type=[\"csv\"])\n",
    "if uploaded_file:\n",
    "    df = pd.read_csv(uploaded_file)\n",
    "    st.write(df.head())\n",
    "\n",
    "    # Generate predictions for uploaded dataset\n",
    "    predictions = predict_study_length(df)  # This should be a function from model.py\n",
    "    df['Predictions'] = predictions\n",
    "    st.write(df)\n",
    "\n",
    "    # Display predictions using line chart\n",
    "    st.line_chart(df['Predictions'])\n"
   ]
  },
  {
   "cell_type": "code",
   "execution_count": 11,
   "id": "3a63a951-c08a-4651-8a67-dad4c979a114",
   "metadata": {},
   "outputs": [
    {
     "ename": "SyntaxError",
     "evalue": "invalid syntax (3737097518.py, line 1)",
     "output_type": "error",
     "traceback": [
      "\u001b[0;36m  Cell \u001b[0;32mIn[11], line 1\u001b[0;36m\u001b[0m\n\u001b[0;31m    streamlit run app.py\u001b[0m\n\u001b[0m              ^\u001b[0m\n\u001b[0;31mSyntaxError\u001b[0m\u001b[0;31m:\u001b[0m invalid syntax\n"
     ]
    }
   ],
   "source": [
    "pip install "
   ]
  },
  {
   "cell_type": "code",
   "execution_count": null,
   "id": "bd1a7854-3b88-4590-b5dc-64cc7eb27173",
   "metadata": {},
   "outputs": [],
   "source": []
  }
 ],
 "metadata": {
  "colab": {
   "provenance": []
  },
  "kernelspec": {
   "display_name": "Python (venv)",
   "language": "python",
   "name": "venv"
  },
  "language_info": {
   "codemirror_mode": {
    "name": "ipython",
    "version": 3
   },
   "file_extension": ".py",
   "mimetype": "text/x-python",
   "name": "python",
   "nbconvert_exporter": "python",
   "pygments_lexer": "ipython3",
   "version": "3.9.21"
  }
 },
 "nbformat": 4,
 "nbformat_minor": 5
}
